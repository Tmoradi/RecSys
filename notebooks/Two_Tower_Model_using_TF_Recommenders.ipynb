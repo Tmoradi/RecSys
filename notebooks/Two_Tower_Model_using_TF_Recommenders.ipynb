{
  "nbformat": 4,
  "nbformat_minor": 0,
  "metadata": {
    "colab": {
      "provenance": [],
      "toc_visible": true
    },
    "kernelspec": {
      "name": "python3",
      "display_name": "Python 3"
    },
    "language_info": {
      "name": "python"
    }
  },
  "cells": [
    {
      "cell_type": "markdown",
      "source": [
        "# Import Libraries"
      ],
      "metadata": {
        "id": "JlqmdU4BiM_Z"
      }
    },
    {
      "cell_type": "code",
      "source": [
        "!pip install -Uq tensorflow-recommenders\n",
        "!pip install -Uq tensorflow-datasets"
      ],
      "metadata": {
        "id": "ncrBaaXkcZ5h"
      },
      "execution_count": null,
      "outputs": []
    },
    {
      "cell_type": "code",
      "source": [
        "import os\n",
        "import pprint\n",
        "import tempfile\n",
        "\n",
        "from typing import Dict, Text\n",
        "\n",
        "import pandas as pd\n",
        "import numpy as np\n",
        "import tensorflow as tf\n",
        "import tensorflow_datasets as tfds\n",
        "import tensorflow_recommenders as tfrs"
      ],
      "metadata": {
        "id": "dHjp5kCeiQzV"
      },
      "execution_count": null,
      "outputs": []
    },
    {
      "cell_type": "markdown",
      "source": [
        "# Data Preparation"
      ],
      "metadata": {
        "id": "zDNJK1E7iyje"
      }
    },
    {
      "cell_type": "code",
      "source": [
        "# Load ecommerce dataset\n",
        "df_ecommerce = pd.read_csv('ecommerce.csv') # Contains transactions\n",
        "df_products = pd.read_csv('products.csv')   # Contains products"
      ],
      "metadata": {
        "id": "odG6GaIX2Wco"
      },
      "execution_count": null,
      "outputs": []
    },
    {
      "cell_type": "code",
      "source": [
        "# Convert dataframe to tensors\n",
        "ds_ecommerce = tf.data.Dataset.from_tensor_slices(dict(df_ecommerce))\n",
        "ds_products = tf.data.Dataset.from_tensor_slices(dict(df_products))"
      ],
      "metadata": {
        "id": "HP4JrSmE2W2d"
      },
      "execution_count": null,
      "outputs": []
    },
    {
      "cell_type": "code",
      "source": [
        "# Select fields\n",
        "ds_ecommerce = ds_ecommerce.map(lambda x: {\n",
        "    'user_id': tf.strings.as_string(x['user_id']),\n",
        "    'product_id': tf.strings.as_string(x['product_id']),\n",
        "    'age': x['age'],\n",
        "    'search_query': x['search_query']\n",
        "})\n",
        "\n",
        "ds_products = ds_products.batch(32).map(lambda x: tf.strings.as_string(x['product_id']))\n",
        "\n",
        "# Get all the user IDs\n",
        "user_ids = ds_ecommerce.batch(1000000).map(lambda x: x[\"user_id\"])\n",
        "unique_user_ids = np.unique(np.concatenate(list(user_ids))).astype(str)\n",
        "\n",
        "# Get all the product IDs\n",
        "product_ids = ds_ecommerce.batch(1000000).map(lambda x: x[\"product_id\"])\n",
        "unique_product_ids = np.unique(np.concatenate(list(product_ids))).astype(str)"
      ],
      "metadata": {
        "id": "z-5OQB4P1M1h"
      },
      "execution_count": null,
      "outputs": []
    },
    {
      "cell_type": "markdown",
      "source": [
        "# Module 01 - Two-Towers (IDs Only)"
      ],
      "metadata": {
        "id": "Yn_gPEEjkJMw"
      }
    },
    {
      "cell_type": "code",
      "source": [
        "# User and Product models.\n",
        "class UserModel(tf.keras.Model):\n",
        "\n",
        "  def __init__(self, unique_user_ids):\n",
        "    super().__init__()\n",
        "\n",
        "    self.user_embedding = tf.keras.Sequential([\n",
        "      tf.keras.layers.experimental.preprocessing.StringLookup(\n",
        "        vocabulary=unique_user_ids, mask_token=None),\n",
        "      tf.keras.layers.Embedding(len(unique_user_ids) + 1, 32),\n",
        "    ])\n",
        "\n",
        "  def call(self, inputs):\n",
        "    return self.user_embedding(inputs)\n",
        "\n",
        "class ProductModel(tf.keras.Model):\n",
        "\n",
        "  def __init__(self, unique_product_ids):\n",
        "    super().__init__()\n",
        "\n",
        "    self.product_embedding = tf.keras.Sequential([\n",
        "      tf.keras.layers.experimental.preprocessing.StringLookup(\n",
        "        vocabulary=unique_product_ids, mask_token=None),\n",
        "      tf.keras.layers.Embedding(len(unique_product_ids) + 1, 32)\n",
        "    ])\n",
        "\n",
        "  def call(self, inputs):\n",
        "    return self.product_embedding(inputs)\n",
        "\n",
        "# Define the two-tower model.\n",
        "class TwoTowerModel(tfrs.models.Model):\n",
        "\n",
        "  def __init__(self, user_model, product_model, task):\n",
        "    super().__init__()\n",
        "    self.user_model = user_model\n",
        "    self.product_model = product_model\n",
        "    self.task = task\n",
        "\n",
        "  def compute_loss(self, features, training=False):\n",
        "    user_embeddings = self.user_model(features[\"user_id\"])\n",
        "    positive_product_embeddings = self.product_model(features[\"product_id\"])\n",
        "\n",
        "    return self.task(user_embeddings, positive_product_embeddings)\n",
        "\n",
        "# Instantiate and compile the model.\n",
        "user_model = UserModel(unique_user_ids)\n",
        "product_model = ProductModel(unique_product_ids)\n",
        "\n",
        "# Calculate embeddings for all products.\n",
        "product_embeddings = tf.data.Dataset.from_tensor_slices(unique_product_ids).batch(128).map(product_model)\n",
        "\n",
        "# Specify the task.\n",
        "task = tfrs.tasks.Retrieval(\n",
        "    metrics=tfrs.metrics.FactorizedTopK(candidates=product_embeddings)\n",
        ")\n",
        "\n",
        "model = TwoTowerModel(user_model, product_model, task)\n",
        "model.compile(optimizer=tf.keras.optimizers.Adagrad(0.1))"
      ],
      "metadata": {
        "id": "htO5820j1ON9"
      },
      "execution_count": null,
      "outputs": []
    },
    {
      "cell_type": "code",
      "source": [
        "# Train for 3 epochs.\n",
        "model.fit(ds_ecommerce.batch(50), epochs=1)"
      ],
      "metadata": {
        "colab": {
          "base_uri": "https://localhost:8080/"
        },
        "id": "ncATfK3F25tJ",
        "outputId": "e3713cf7-4394-4078-8d84-dbae29613eb6"
      },
      "execution_count": null,
      "outputs": [
        {
          "output_type": "stream",
          "name": "stdout",
          "text": [
            "100/100 [==============================] - 29s 230ms/step - factorized_top_k/top_1_categorical_accuracy: 0.0000e+00 - factorized_top_k/top_5_categorical_accuracy: 0.1736 - factorized_top_k/top_10_categorical_accuracy: 0.2358 - factorized_top_k/top_50_categorical_accuracy: 0.3816 - factorized_top_k/top_100_categorical_accuracy: 0.4692 - loss: 194.7379 - regularization_loss: 0.0000e+00 - total_loss: 194.7379\n"
          ]
        },
        {
          "output_type": "execute_result",
          "data": {
            "text/plain": [
              "<keras.callbacks.History at 0x7f442eb06f20>"
            ]
          },
          "metadata": {},
          "execution_count": 16
        }
      ]
    },
    {
      "cell_type": "code",
      "source": [
        "K = 3\n",
        "\n",
        "# Use brute-force search to set up retrieval using the trained representations.\n",
        "index = tfrs.layers.factorized_top_k.BruteForce(model.user_model, k=K)\n",
        "\n",
        "# Populate the index with the embeddings from the product model. And, perform this\n",
        "# operation in batch with a size of 32 observations for efficiency.\n",
        "product_embeddings_to_index = ds_products.map(lambda id: model.product_model(id))\n",
        "index.index_from_dataset(product_embeddings_to_index)\n",
        "\n",
        "# # Get some recommendations.\n",
        "user_id = \"1\"\n",
        "_, products = index(np.array([user_id]))\n",
        "print(f\"Top 3 recommendations for user {user_id}: {products[0, :K]}\")"
      ],
      "metadata": {
        "colab": {
          "base_uri": "https://localhost:8080/"
        },
        "id": "2HCjAD1nmxwW",
        "outputId": "95068f6e-632d-4d62-ff39-a374a8fbb774"
      },
      "execution_count": null,
      "outputs": [
        {
          "output_type": "stream",
          "name": "stdout",
          "text": [
            "Top 3 recommendations for user 1: [390  56 217]\n"
          ]
        }
      ]
    },
    {
      "cell_type": "markdown",
      "source": [
        "# Module 02 - Two-Towers w/ Meta Data"
      ],
      "metadata": {
        "id": "vOPScYBQqfsN"
      }
    },
    {
      "cell_type": "code",
      "source": [
        "# User and Product models.\n",
        "class ProductModel(tf.keras.Model):\n",
        "\n",
        "  def __init__(self, unique_product_ids):\n",
        "    super().__init__()\n",
        "\n",
        "    self.product_embedding = tf.keras.Sequential([\n",
        "      tf.keras.layers.experimental.preprocessing.StringLookup(\n",
        "        vocabulary=unique_product_ids, mask_token=None),\n",
        "      tf.keras.layers.Embedding(len(unique_product_ids) + 1, 32)\n",
        "    ])\n",
        "\n",
        "  def call(self, inputs):\n",
        "    return self.product_embedding(inputs)\n",
        "\n",
        "class UserModelMetaData(tf.keras.Model):\n",
        "\n",
        "  def __init__(self, unique_user_id_list):\n",
        "    super().__init__()\n",
        "\n",
        "    # User ID Embedding\n",
        "    self.user_embedding = tf.keras.Sequential([\n",
        "      tf.keras.layers.experimental.preprocessing.StringLookup(\n",
        "        vocabulary=unique_user_id_list, mask_token=None),\n",
        "      tf.keras.layers.Embedding(len(unique_user_id_list) + 1, 32),\n",
        "    ])\n",
        "\n",
        "    # User age\n",
        "    self.age_normalizer = tf.keras.layers.experimental.preprocessing.Normalization(axis=None)\n",
        "\n",
        "  def call(self, inputs):\n",
        "    user_emb = self.user_embedding(inputs['user_id'])\n",
        "    age = self.age_normalizer(inputs['age'])\n",
        "    return tf.concat([user_emb, tf.reshape(age, (-1, 1))], axis=1)\n",
        "\n",
        "  def adapt(self, data):\n",
        "    age_data = data.map(lambda x: x['age'])\n",
        "    self.age_normalizer.adapt(age_data)\n",
        "\n",
        "# Define the two-tower model.\n",
        "class TwoTowerModel(tfrs.models.Model):\n",
        "\n",
        "  def __init__(self, user_model, product_model, task):\n",
        "    super().__init__()\n",
        "    self.user_model = tf.keras.Sequential([\n",
        "      user_model,\n",
        "      tf.keras.layers.Dense(32)\n",
        "    ])\n",
        "    self.product_model = product_model\n",
        "    self.task = task\n",
        "\n",
        "  def compute_loss(self, features, training=False):\n",
        "    user_embeddings = self.user_model({\n",
        "        'user_id': features['user_id'],\n",
        "        'age': features['age']\n",
        "    })\n",
        "    positive_product_embeddings = self.product_model(features['product_id'])\n",
        "    return self.task(user_embeddings, positive_product_embeddings)\n",
        "\n",
        "# You need to gather the unique user ids and product ids to instantiate the models.\n",
        "user_ids = ds_ecommerce.batch(1000000).map(lambda x: x[\"user_id\"])\n",
        "unique_user_ids = np.unique(np.concatenate(list(user_ids))).astype(str)\n",
        "\n",
        "# Get all the product IDs\n",
        "product_ids = ds_ecommerce.batch(1000000).map(lambda x: x[\"product_id\"])\n",
        "unique_product_ids = np.unique(np.concatenate(list(product_ids))).astype(str)\n",
        "\n",
        "# Instantiate and compile the model.\n",
        "user_model = UserModelMetaData(unique_user_ids)\n",
        "# user_model.adapt(ds_ecommerce)\n",
        "\n",
        "product_model = ProductModel(unique_product_ids)\n",
        "\n",
        "# Calculate embeddings for all products.\n",
        "product_embeddings = ds_products.map(product_model)\n",
        "\n",
        "# Specify the task.\n",
        "task = tfrs.tasks.Retrieval(\n",
        "    metrics=tfrs.metrics.FactorizedTopK(candidates=product_embeddings)\n",
        ")\n",
        "\n",
        "model = TwoTowerModel(user_model, product_model, task)\n",
        "model.compile(optimizer=tf.keras.optimizers.Adagrad(0.1))"
      ],
      "metadata": {
        "id": "VHh9MyHPqk92"
      },
      "execution_count": null,
      "outputs": []
    },
    {
      "cell_type": "code",
      "source": [
        "# Train for 3 epochs.\n",
        "model.fit(ds_ecommerce.batch(50), epochs=1)"
      ],
      "metadata": {
        "id": "_lfAl7y-NW7Y",
        "colab": {
          "base_uri": "https://localhost:8080/"
        },
        "outputId": "ea140f5c-76bc-4985-ab43-cfca6b1425aa"
      },
      "execution_count": null,
      "outputs": [
        {
          "output_type": "stream",
          "name": "stderr",
          "text": [
            "WARNING:tensorflow:Layers in a Sequential model should only have a single input tensor. Received: inputs={'user_id': <tf.Tensor 'IteratorGetNext:3' shape=(None,) dtype=string>, 'age': <tf.Tensor 'IteratorGetNext:0' shape=(None,) dtype=int64>}. Consider rewriting this model with the Functional API.\n",
            "WARNING:tensorflow:Layers in a Sequential model should only have a single input tensor. Received: inputs={'user_id': <tf.Tensor 'IteratorGetNext:3' shape=(None,) dtype=string>, 'age': <tf.Tensor 'IteratorGetNext:0' shape=(None,) dtype=int64>}. Consider rewriting this model with the Functional API.\n"
          ]
        },
        {
          "output_type": "stream",
          "name": "stdout",
          "text": [
            "100/100 [==============================] - 11s 102ms/step - factorized_top_k/top_1_categorical_accuracy: 0.0016 - factorized_top_k/top_5_categorical_accuracy: 0.0236 - factorized_top_k/top_10_categorical_accuracy: 0.0438 - factorized_top_k/top_50_categorical_accuracy: 0.1734 - factorized_top_k/top_100_categorical_accuracy: 0.3034 - loss: 208.4454 - regularization_loss: 0.0000e+00 - total_loss: 208.4454\n"
          ]
        },
        {
          "output_type": "execute_result",
          "data": {
            "text/plain": [
              "<keras.callbacks.History at 0x7f4427ccdba0>"
            ]
          },
          "metadata": {},
          "execution_count": 19
        }
      ]
    },
    {
      "cell_type": "code",
      "source": [
        "K = 3\n",
        "\n",
        "# Get some recommendations.\n",
        "user_id = tf.constant([\"1\"])  # user_id should be a string tensor\n",
        "user_age = tf.constant([25])  # user_age should be a numeric tensor\n",
        "\n",
        "# Use brute-force search to set up retrieval using the trained representations.\n",
        "index = tfrs.layers.factorized_top_k.BruteForce(model.user_model, k=K)\n",
        "\n",
        "# Add candidates in the index\n",
        "product_embeddings_to_index = ds_products.map(lambda id: model.product_model(id))\n",
        "index.index_from_dataset(product_embeddings_to_index)\n",
        "\n",
        "# You need to pass the user_id and age in a dictionary.\n",
        "_, products = index({\"user_id\": user_id, \"age\": user_age})\n",
        "print(f\"Top 3 recommendations for user {user_id}: {products[0, :K]}\")"
      ],
      "metadata": {
        "colab": {
          "base_uri": "https://localhost:8080/"
        },
        "id": "ft3hbjbQujqt",
        "outputId": "93e1ed19-1ab0-4b05-998a-818446cc7e1d"
      },
      "execution_count": null,
      "outputs": [
        {
          "output_type": "stream",
          "name": "stderr",
          "text": [
            "WARNING:tensorflow:Layers in a Sequential model should only have a single input tensor. Received: inputs={'user_id': <tf.Tensor: shape=(1,), dtype=string, numpy=array([b'1'], dtype=object)>, 'age': <tf.Tensor: shape=(1,), dtype=int32, numpy=array([25], dtype=int32)>}. Consider rewriting this model with the Functional API.\n"
          ]
        },
        {
          "output_type": "stream",
          "name": "stdout",
          "text": [
            "Top 3 recommendations for user [b'1']: [ 50 282 177]\n"
          ]
        }
      ]
    }
  ]
}